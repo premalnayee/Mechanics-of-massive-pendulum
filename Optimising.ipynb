{
 "cells": [
  {
   "cell_type": "markdown",
   "metadata": {},
   "source": [
    "# Here I compare the efficiency of functions"
   ]
  },
  {
   "cell_type": "code",
   "execution_count": 25,
   "metadata": {
    "scrolled": true
   },
   "outputs": [],
   "source": [
    "import numpy as np\n",
    "import math\n",
    "from scipy.integrate import RK45\n",
    "import scipy.sparse as sparse\n",
    "import timeit\n",
    "import time\n",
    "from numba import jit\n",
    "import scipy.linalg as lin\n",
    "import matplotlib.pyplot as plt\n",
    "%load_ext Cython"
   ]
  },
  {
   "cell_type": "markdown",
   "metadata": {},
   "source": [
    "Optimising"
   ]
  },
  {
   "cell_type": "code",
   "execution_count": 32,
   "metadata": {
    "code_folding": [
     0
    ]
   },
   "outputs": [
    {
     "name": "stdout",
     "output_type": "stream",
     "text": [
      "28.8 µs ± 319 ns per loop (mean ± std. dev. of 7 runs, 10000 loops each)\n",
      "37 µs ± 583 ns per loop (mean ± std. dev. of 7 runs, 10000 loops each)\n"
     ]
    }
   ],
   "source": [
    "def sin(x): return np.sin(x)\n",
    "\n",
    "def sin_opt(x): return np.sqrt(1-x**2)\n",
    "x = np.random.rand(1000)\n",
    "\n",
    "%timeit sin(x)\n",
    "%timeit sin_opt(np.cos(x))"
   ]
  },
  {
   "cell_type": "markdown",
   "metadata": {},
   "source": [
    "So, add in the sin optimisation ($\\sin(x) = \\sqrt{1-\\cos^2(x)}$) isn't likely to help with much, it seems to slow down code."
   ]
  },
  {
   "cell_type": "markdown",
   "metadata": {},
   "source": [
    "Using Numba's parallel option"
   ]
  },
  {
   "cell_type": "code",
   "execution_count": 23,
   "metadata": {
    "code_folding": [
     0,
     30
    ]
   },
   "outputs": [
    {
     "ename": "RuntimeError",
     "evalue": "The 'parallel' target is not currently supported on Windows operating systems when using Python 2.7, or on 32 bit hardware.",
     "output_type": "error",
     "traceback": [
      "\u001b[1;31m---------------------------------------------------------------------------\u001b[0m",
      "\u001b[1;31mRuntimeError\u001b[0m                              Traceback (most recent call last)",
      "\u001b[1;32m<ipython-input-23-f4bd41ca6082>\u001b[0m in \u001b[0;36m<module>\u001b[1;34m()\u001b[0m\n\u001b[0;32m     28\u001b[0m     \u001b[1;32mreturn\u001b[0m \u001b[0mnp\u001b[0m\u001b[1;33m.\u001b[0m\u001b[0mconcatenate\u001b[0m\u001b[1;33m(\u001b[0m\u001b[1;33m(\u001b[0m\u001b[0momegas\u001b[0m\u001b[1;33m,\u001b[0m\u001b[0malphas\u001b[0m\u001b[1;33m)\u001b[0m\u001b[1;33m)\u001b[0m\u001b[1;33m\u001b[0m\u001b[0m\n\u001b[0;32m     29\u001b[0m \u001b[1;33m\u001b[0m\u001b[0m\n\u001b[1;32m---> 30\u001b[1;33m \u001b[1;33m@\u001b[0m\u001b[0mjit\u001b[0m\u001b[1;33m(\u001b[0m\u001b[0mparallel\u001b[0m\u001b[1;33m=\u001b[0m\u001b[1;32mTrue\u001b[0m\u001b[1;33m)\u001b[0m\u001b[1;33m\u001b[0m\u001b[0m\n\u001b[0m\u001b[0;32m     31\u001b[0m \u001b[1;32mdef\u001b[0m \u001b[0mRHS_jit\u001b[0m\u001b[1;33m(\u001b[0m\u001b[0mt\u001b[0m\u001b[1;33m,\u001b[0m\u001b[0mzeta\u001b[0m\u001b[1;33m)\u001b[0m\u001b[1;33m:\u001b[0m\u001b[1;33m\u001b[0m\u001b[0m\n\u001b[0;32m     32\u001b[0m     \u001b[1;31m# Set up\u001b[0m\u001b[1;33m\u001b[0m\u001b[1;33m\u001b[0m\u001b[0m\n",
      "\u001b[1;32m~\\Anaconda3\\lib\\site-packages\\numba\\decorators.py\u001b[0m in \u001b[0;36mjit\u001b[1;34m(signature_or_function, locals, target, cache, pipeline_class, **options)\u001b[0m\n\u001b[0;32m    139\u001b[0m                    \u001b[1;34m\"Windows operating systems when using Python 2.7, or \"\u001b[0m\u001b[1;33m\u001b[0m\u001b[0m\n\u001b[0;32m    140\u001b[0m                    \"on 32 bit hardware.\")\n\u001b[1;32m--> 141\u001b[1;33m             \u001b[1;32mraise\u001b[0m \u001b[0mRuntimeError\u001b[0m\u001b[1;33m(\u001b[0m\u001b[0mmsg\u001b[0m\u001b[1;33m)\u001b[0m\u001b[1;33m\u001b[0m\u001b[0m\n\u001b[0m\u001b[0;32m    142\u001b[0m         \u001b[1;32mif\u001b[0m \u001b[0mcache\u001b[0m\u001b[1;33m:\u001b[0m\u001b[1;33m\u001b[0m\u001b[0m\n\u001b[0;32m    143\u001b[0m             msg = (\"Caching is not available when the 'parallel' target is in \"\n",
      "\u001b[1;31mRuntimeError\u001b[0m: The 'parallel' target is not currently supported on Windows operating systems when using Python 2.7, or on 32 bit hardware."
     ]
    }
   ],
   "source": [
    "def RHS(t,zeta):\n",
    "    # Set up\n",
    "    N = int(len(zeta)/2)\n",
    "    thetas, omegas = zeta[0:N], zeta[N:]\n",
    "    first_theta = thetas[0]         # Used to calculate R and alpha\n",
    "    deltas = np.roll(thetas,-1) - thetas  # We want to include all elements for when we create the matricies\n",
    "    R = np.square(omegas)\n",
    "    R[0] = R[0] + np.cos(first_theta)\n",
    "    \n",
    "    #Create matrix l_0:\n",
    "    coses = -np.cos(deltas)\n",
    "    coses_roll = np.roll(coses,+1)   # Have to roll so that the elements in the matrix are in the correct order\n",
    "    two = 2*np.ones(N)               \n",
    "    two[0] = 1    # Make the first and last element equal to 1\n",
    "    L = sparse.csr_matrix(sparse.dia_matrix(([two,coses,coses_roll],[0,-1,1]),shape=(N,N)))\n",
    "    \n",
    "    # Solve for T\n",
    "    T = sparse.linalg.spsolve(L,R)\n",
    "    \n",
    "    # Create matrix D_0:\n",
    "    sines = np.sin(deltas)\n",
    "    sines_roll = np.roll(sines,+1)   # Same reason as for l_0()\n",
    "    D = sparse.dia_matrix(([-sines,sines_roll],[-1,+1]),shape=(N,N))\n",
    "    \n",
    "    # Solve for alphas\n",
    "    alphas = D.dot(T)\n",
    "    alphas[0] = alphas[0] - np.sin(first_theta)\n",
    "    return np.concatenate((omegas,alphas))\n",
    "\n",
    "@jit(parallel=True)\n",
    "def RHS_jit(t,zeta):\n",
    "    # Set up\n",
    "    N = int(len(zeta)/2)\n",
    "    thetas, omegas = zeta[0:N], zeta[N:]\n",
    "    first_theta = thetas[0]        # Used to calculate R and alpha\n",
    "    deltas = np.roll(thetas,-1) - thetas  # We want to include all elements for when we create the matricies\n",
    "    R = np.square(omegas)\n",
    "    R[0] = R[0] + np.cos(first_theta)\n",
    "    \n",
    "    #Create matrix l_0:\n",
    "    coses = -np.cos(deltas)\n",
    "    coses_roll = np.roll(coses,+1)   # Have to roll so that the elements in the matrix are in the correct order\n",
    "    two = 2*np.ones(N)               \n",
    "    two[0] = 1    # Make the first and last element equal to 1\n",
    "    L = sparse.csr_matrix(sparse.dia_matrix(([two,coses,coses_roll],[0,-1,1]),shape=(N,N)))\n",
    "    \n",
    "    # Solve for T\n",
    "    T = sparse.linalg.spsolve(L,R)\n",
    "    \n",
    "    # Create matrix D_0:\n",
    "    sines = np.sin(deltas)\n",
    "    sines_roll = np.roll(sines,+1)   # Same reason as for l_0()\n",
    "    D = sparse.csr_matrix(sparse.dia_matrix(([-sines,sines_roll],[-1,+1]),shape=(N,N)))\n",
    "    \n",
    "    # Solve for alphas\n",
    "    alphas = D.dot(T)\n",
    "    alphas[0] = alphas[0] - np.sin(first_theta)\n",
    "    return np.concatenate((omegas,alphas))\n",
    "\n",
    "zeta = np.random.rand(10000)\n",
    "\n",
    "RHS(0,zeta)\n",
    "RHS_jit(0,zeta)\n",
    "\n",
    "t1 = time.time()\n",
    "for x in range(1000):\n",
    "    RHS(0,zeta)\n",
    "t2 = time.time() -t1\n",
    "print(t2)\n",
    "print('------')\n",
    "t1 = time.time()\n",
    "for x in range(1000):\n",
    "    RHS_jit(0,zeta)\n",
    "t2 = time.time() -t1bb\n",
    "print(t2)"
   ]
  },
  {
   "cell_type": "markdown",
   "metadata": {},
   "source": [
    "Not the most useful function."
   ]
  },
  {
   "cell_type": "code",
   "execution_count": 2,
   "metadata": {
    "scrolled": false
   },
   "outputs": [
    {
     "ename": "TypeError",
     "evalue": "'tuple' object cannot be interpreted as an integer",
     "output_type": "error",
     "traceback": [
      "\u001b[1;31m---------------------------------------------------------------------------\u001b[0m",
      "\u001b[1;31mTypeError\u001b[0m                                 Traceback (most recent call last)",
      "\u001b[1;32m<ipython-input-2-8583bc2e1c2e>\u001b[0m in \u001b[0;36m<module>\u001b[1;34m()\u001b[0m\n\u001b[1;32m----> 1\u001b[1;33m \u001b[0mb\u001b[0m \u001b[1;33m=\u001b[0m \u001b[0mnp\u001b[0m\u001b[1;33m.\u001b[0m\u001b[0mrandom\u001b[0m\u001b[1;33m.\u001b[0m\u001b[0mrand\u001b[0m\u001b[1;33m(\u001b[0m\u001b[1;33m(\u001b[0m\u001b[1;36m1000\u001b[0m\u001b[1;33m,\u001b[0m\u001b[1;36m1000\u001b[0m\u001b[1;33m)\u001b[0m\u001b[1;33m)\u001b[0m\u001b[1;33m\u001b[0m\u001b[0m\n\u001b[0m\u001b[0;32m      2\u001b[0m \u001b[0ma\u001b[0m \u001b[1;33m=\u001b[0m \u001b[0mnp\u001b[0m\u001b[1;33m.\u001b[0m\u001b[0mrandom\u001b[0m\u001b[1;33m.\u001b[0m\u001b[0mrand\u001b[0m\u001b[1;33m(\u001b[0m\u001b[1;36m1000\u001b[0m\u001b[1;33m)\u001b[0m\u001b[1;33m\u001b[0m\u001b[0m\n\u001b[0;32m      3\u001b[0m \u001b[0ma2\u001b[0m \u001b[1;33m=\u001b[0m \u001b[0mnp\u001b[0m\u001b[1;33m.\u001b[0m\u001b[0mrandom\u001b[0m\u001b[1;33m.\u001b[0m\u001b[0mrand\u001b[0m\u001b[1;33m(\u001b[0m\u001b[1;36m500\u001b[0m\u001b[1;33m)\u001b[0m\u001b[1;33m\u001b[0m\u001b[0m\n\u001b[0;32m      4\u001b[0m \u001b[0mb2\u001b[0m \u001b[1;33m=\u001b[0m \u001b[0mnp\u001b[0m\u001b[1;33m.\u001b[0m\u001b[0mrandom\u001b[0m\u001b[1;33m.\u001b[0m\u001b[0mrand\u001b[0m\u001b[1;33m(\u001b[0m\u001b[1;36m500\u001b[0m\u001b[1;33m)\u001b[0m\u001b[1;33m\u001b[0m\u001b[0m\n\u001b[0;32m      5\u001b[0m \u001b[0mc\u001b[0m \u001b[1;33m=\u001b[0m \u001b[1;33m[\u001b[0m\u001b[1;33m]\u001b[0m\u001b[1;33m\u001b[0m\u001b[0m\n",
      "\u001b[1;32mmtrand.pyx\u001b[0m in \u001b[0;36mmtrand.RandomState.rand\u001b[1;34m()\u001b[0m\n",
      "\u001b[1;32mmtrand.pyx\u001b[0m in \u001b[0;36mmtrand.RandomState.random_sample\u001b[1;34m()\u001b[0m\n",
      "\u001b[1;32mmtrand.pyx\u001b[0m in \u001b[0;36mmtrand.cont0_array\u001b[1;34m()\u001b[0m\n",
      "\u001b[1;31mTypeError\u001b[0m: 'tuple' object cannot be interpreted as an integer"
     ]
    }
   ],
   "source": [
    "b = np.random.rand((1000,1000))\n",
    "a = np.random.rand(1000)\n",
    "a2 = np.random.rand(500)\n",
    "b2 = np.random.rand(500)\n",
    "c = []\n",
    "\n",
    "# S2 = np.sin(a)\n",
    "# %timeit np.sin(a)\n",
    "# %timeit np.cos(a)\n",
    "# %timeit np.sqrt(1-np.square(S2))  #4x faster, but still need to consider the error that the method induces\n",
    "\n",
    "%timeit np.cos(a)\n",
    "%timeit math.cos(a)\n",
    "\n",
    "# b[0,] = a\n",
    "# print(b)\n",
    "\n",
    "# t1 =time.time()\n",
    "# for x in range(1000):\n",
    "#     b[-1,] = a\n",
    "#     b = np.zeros((1000,1000))\n",
    "# t2 = time.time() -t1\n",
    "# print(t2)\n",
    "\n",
    "\n",
    "# t1 =time.time()\n",
    "# for x in range(1000):\n",
    "#     c.append(a)\n",
    "#     c=[]\n",
    "# t2 = time.time() -t1\n",
    "# print(t2)\n",
    "\n",
    "# %timeit sparse.csr_matrix(b)  # Quite slow, is it worth it?\n",
    "\n",
    "# %timeit np.concatenate((thetas,thetas))  #Fastest\n",
    "# %timeit np.hstack((thetas,thetas))       #Fast\n",
    "# %timeit np.insert(np.zeros(1000),-1,a)\n",
    "# %timeit np.insert(np.zeros(1000),0,a)\n",
    "# %timeit np.insert(np.zeros(1000),1,a)\n",
    "\n",
    "# %timeit b[0,] = a2\n",
    "# %timeit b[0,] = a\n",
    "                    \n",
    "# %timeit np.zeros((1,1000))\n",
    "# %timeit np.insert(a,-1,a2)\n",
    "# %timeit np.insert(b,-1,b2)\n",
    "\n",
    "# %timeit np.hstack(a)       # Same time\n",
    "# %timeit np.vstack(a)\n",
    "\n",
    "# %timeit b[1,] = a        # fastest \n",
    "# %timeit b[0,0:1000] = a  # Close second\n",
    "# %timeit b[0:1000,0] = a  # 4 times slower\n",
    "\n",
    "# %timeit a[0:1000,] \n",
    "# %timeit a[0,0:1000]"
   ]
  },
  {
   "cell_type": "markdown",
   "metadata": {},
   "source": [
    "Sparse matricies take a long time to create"
   ]
  },
  {
   "cell_type": "code",
   "execution_count": 39,
   "metadata": {},
   "outputs": [
    {
     "name": "stdout",
     "output_type": "stream",
     "text": [
      "56.3 ms ± 1.86 ms per loop (mean ± std. dev. of 7 runs, 10 loops each)\n"
     ]
    }
   ],
   "source": [
    "b=np.random.rand(1000,1000)\n",
    "%timeit sparse.csr_matrix(b)  # Quite slow, is it worth it?"
   ]
  },
  {
   "cell_type": "markdown",
   "metadata": {},
   "source": [
    "A bottleneck in the program, need to think of the problem in terms of arrays that make a matrix, instead of matricies, as the sparse matrices take a long time to build."
   ]
  },
  {
   "cell_type": "markdown",
   "metadata": {},
   "source": [
    "The most interesting numpy optimistision I found was:"
   ]
  },
  {
   "cell_type": "code",
   "execution_count": 36,
   "metadata": {},
   "outputs": [
    {
     "name": "stdout",
     "output_type": "stream",
     "text": [
      "11.9 ms ± 109 µs per loop (mean ± std. dev. of 7 runs, 100 loops each)\n",
      "11.7 ms ± 99.2 µs per loop (mean ± std. dev. of 7 runs, 100 loops each)\n"
     ]
    }
   ],
   "source": [
    "a=1000\n",
    "%timeit np.zeros((a,a))\n",
    "%timeit np.empty((a,a))"
   ]
  },
  {
   "cell_type": "markdown",
   "metadata": {},
   "source": [
    "Almost a 1000x speedup. However, it must be used with caution, as np.empty creates an uninitalised array, which can cause problems when acessing the array.\n",
    "\n",
    "See: https://docs.scipy.org/doc/numpy/reference/generated/numpy.empty.html"
   ]
  },
  {
   "cell_type": "code",
   "execution_count": 128,
   "metadata": {},
   "outputs": [
    {
     "ename": "TypeError",
     "evalue": "__init__() got multiple values for argument 'shape'",
     "output_type": "error",
     "traceback": [
      "\u001b[1;31m---------------------------------------------------------------------------\u001b[0m",
      "\u001b[1;31mTypeError\u001b[0m                                 Traceback (most recent call last)",
      "\u001b[1;32m<ipython-input-128-4bd907c4440e>\u001b[0m in \u001b[0;36m<module>\u001b[1;34m()\u001b[0m\n\u001b[0;32m     10\u001b[0m \u001b[0msines\u001b[0m \u001b[1;33m=\u001b[0m \u001b[0mnp\u001b[0m\u001b[1;33m.\u001b[0m\u001b[0msin\u001b[0m\u001b[1;33m(\u001b[0m\u001b[0mdeltas\u001b[0m\u001b[1;33m)\u001b[0m\u001b[1;33m\u001b[0m\u001b[0m\n\u001b[0;32m     11\u001b[0m \u001b[0msines_roll\u001b[0m \u001b[1;33m=\u001b[0m \u001b[0mnp\u001b[0m\u001b[1;33m.\u001b[0m\u001b[0mroll\u001b[0m\u001b[1;33m(\u001b[0m\u001b[0msines\u001b[0m\u001b[1;33m,\u001b[0m\u001b[1;33m+\u001b[0m\u001b[1;36m1\u001b[0m\u001b[1;33m)\u001b[0m   \u001b[1;31m# Same reason as for l_0()\u001b[0m\u001b[1;33m\u001b[0m\u001b[0m\n\u001b[1;32m---> 12\u001b[1;33m \u001b[0mget_ipython\u001b[0m\u001b[1;33m(\u001b[0m\u001b[1;33m)\u001b[0m\u001b[1;33m.\u001b[0m\u001b[0mrun_line_magic\u001b[0m\u001b[1;33m(\u001b[0m\u001b[1;34m'timeit'\u001b[0m\u001b[1;33m,\u001b[0m \u001b[1;34m'sparse.dia_matrix([-sines,sines_roll],[-1,+1],shape=(N,N),format=\"csr\")'\u001b[0m\u001b[1;33m)\u001b[0m\u001b[1;33m\u001b[0m\u001b[0m\n\u001b[0m\u001b[0;32m     13\u001b[0m \u001b[0mget_ipython\u001b[0m\u001b[1;33m(\u001b[0m\u001b[1;33m)\u001b[0m\u001b[1;33m.\u001b[0m\u001b[0mrun_line_magic\u001b[0m\u001b[1;33m(\u001b[0m\u001b[1;34m'timeit'\u001b[0m\u001b[1;33m,\u001b[0m \u001b[1;34m'sparse.csr_matrix(sparse.dia_matrix(([-sines,sines_roll],[-1,+1]),shape=(N,N)))'\u001b[0m\u001b[1;33m)\u001b[0m\u001b[1;33m\u001b[0m\u001b[0m\n\u001b[0;32m     14\u001b[0m \u001b[1;33m\u001b[0m\u001b[0m\n",
      "\u001b[1;32m~\\AppData\\Roaming\\Python\\Python36\\site-packages\\IPython\\core\\interactiveshell.py\u001b[0m in \u001b[0;36mrun_line_magic\u001b[1;34m(self, magic_name, line, _stack_depth)\u001b[0m\n\u001b[0;32m   2093\u001b[0m                 \u001b[0mkwargs\u001b[0m\u001b[1;33m[\u001b[0m\u001b[1;34m'local_ns'\u001b[0m\u001b[1;33m]\u001b[0m \u001b[1;33m=\u001b[0m \u001b[0msys\u001b[0m\u001b[1;33m.\u001b[0m\u001b[0m_getframe\u001b[0m\u001b[1;33m(\u001b[0m\u001b[0mstack_depth\u001b[0m\u001b[1;33m)\u001b[0m\u001b[1;33m.\u001b[0m\u001b[0mf_locals\u001b[0m\u001b[1;33m\u001b[0m\u001b[0m\n\u001b[0;32m   2094\u001b[0m             \u001b[1;32mwith\u001b[0m \u001b[0mself\u001b[0m\u001b[1;33m.\u001b[0m\u001b[0mbuiltin_trap\u001b[0m\u001b[1;33m:\u001b[0m\u001b[1;33m\u001b[0m\u001b[0m\n\u001b[1;32m-> 2095\u001b[1;33m                 \u001b[0mresult\u001b[0m \u001b[1;33m=\u001b[0m \u001b[0mfn\u001b[0m\u001b[1;33m(\u001b[0m\u001b[1;33m*\u001b[0m\u001b[0margs\u001b[0m\u001b[1;33m,\u001b[0m\u001b[1;33m**\u001b[0m\u001b[0mkwargs\u001b[0m\u001b[1;33m)\u001b[0m\u001b[1;33m\u001b[0m\u001b[0m\n\u001b[0m\u001b[0;32m   2096\u001b[0m             \u001b[1;32mreturn\u001b[0m \u001b[0mresult\u001b[0m\u001b[1;33m\u001b[0m\u001b[0m\n\u001b[0;32m   2097\u001b[0m \u001b[1;33m\u001b[0m\u001b[0m\n",
      "\u001b[1;32m<decorator-gen-62>\u001b[0m in \u001b[0;36mtimeit\u001b[1;34m(self, line, cell, local_ns)\u001b[0m\n",
      "\u001b[1;32m~\\AppData\\Roaming\\Python\\Python36\\site-packages\\IPython\\core\\magic.py\u001b[0m in \u001b[0;36m<lambda>\u001b[1;34m(f, *a, **k)\u001b[0m\n\u001b[0;32m    185\u001b[0m     \u001b[1;31m# but it's overkill for just that one bit of state.\u001b[0m\u001b[1;33m\u001b[0m\u001b[1;33m\u001b[0m\u001b[0m\n\u001b[0;32m    186\u001b[0m     \u001b[1;32mdef\u001b[0m \u001b[0mmagic_deco\u001b[0m\u001b[1;33m(\u001b[0m\u001b[0marg\u001b[0m\u001b[1;33m)\u001b[0m\u001b[1;33m:\u001b[0m\u001b[1;33m\u001b[0m\u001b[0m\n\u001b[1;32m--> 187\u001b[1;33m         \u001b[0mcall\u001b[0m \u001b[1;33m=\u001b[0m \u001b[1;32mlambda\u001b[0m \u001b[0mf\u001b[0m\u001b[1;33m,\u001b[0m \u001b[1;33m*\u001b[0m\u001b[0ma\u001b[0m\u001b[1;33m,\u001b[0m \u001b[1;33m**\u001b[0m\u001b[0mk\u001b[0m\u001b[1;33m:\u001b[0m \u001b[0mf\u001b[0m\u001b[1;33m(\u001b[0m\u001b[1;33m*\u001b[0m\u001b[0ma\u001b[0m\u001b[1;33m,\u001b[0m \u001b[1;33m**\u001b[0m\u001b[0mk\u001b[0m\u001b[1;33m)\u001b[0m\u001b[1;33m\u001b[0m\u001b[0m\n\u001b[0m\u001b[0;32m    188\u001b[0m \u001b[1;33m\u001b[0m\u001b[0m\n\u001b[0;32m    189\u001b[0m         \u001b[1;32mif\u001b[0m \u001b[0mcallable\u001b[0m\u001b[1;33m(\u001b[0m\u001b[0marg\u001b[0m\u001b[1;33m)\u001b[0m\u001b[1;33m:\u001b[0m\u001b[1;33m\u001b[0m\u001b[0m\n",
      "\u001b[1;32m~\\AppData\\Roaming\\Python\\Python36\\site-packages\\IPython\\core\\magics\\execution.py\u001b[0m in \u001b[0;36mtimeit\u001b[1;34m(self, line, cell, local_ns)\u001b[0m\n\u001b[0;32m   1096\u001b[0m             \u001b[1;32mfor\u001b[0m \u001b[0mindex\u001b[0m \u001b[1;32min\u001b[0m \u001b[0mrange\u001b[0m\u001b[1;33m(\u001b[0m\u001b[1;36m0\u001b[0m\u001b[1;33m,\u001b[0m \u001b[1;36m10\u001b[0m\u001b[1;33m)\u001b[0m\u001b[1;33m:\u001b[0m\u001b[1;33m\u001b[0m\u001b[0m\n\u001b[0;32m   1097\u001b[0m                 \u001b[0mnumber\u001b[0m \u001b[1;33m=\u001b[0m \u001b[1;36m10\u001b[0m \u001b[1;33m**\u001b[0m \u001b[0mindex\u001b[0m\u001b[1;33m\u001b[0m\u001b[0m\n\u001b[1;32m-> 1098\u001b[1;33m                 \u001b[0mtime_number\u001b[0m \u001b[1;33m=\u001b[0m \u001b[0mtimer\u001b[0m\u001b[1;33m.\u001b[0m\u001b[0mtimeit\u001b[0m\u001b[1;33m(\u001b[0m\u001b[0mnumber\u001b[0m\u001b[1;33m)\u001b[0m\u001b[1;33m\u001b[0m\u001b[0m\n\u001b[0m\u001b[0;32m   1099\u001b[0m                 \u001b[1;32mif\u001b[0m \u001b[0mtime_number\u001b[0m \u001b[1;33m>=\u001b[0m \u001b[1;36m0.2\u001b[0m\u001b[1;33m:\u001b[0m\u001b[1;33m\u001b[0m\u001b[0m\n\u001b[0;32m   1100\u001b[0m                     \u001b[1;32mbreak\u001b[0m\u001b[1;33m\u001b[0m\u001b[0m\n",
      "\u001b[1;32m~\\AppData\\Roaming\\Python\\Python36\\site-packages\\IPython\\core\\magics\\execution.py\u001b[0m in \u001b[0;36mtimeit\u001b[1;34m(self, number)\u001b[0m\n\u001b[0;32m    158\u001b[0m         \u001b[0mgc\u001b[0m\u001b[1;33m.\u001b[0m\u001b[0mdisable\u001b[0m\u001b[1;33m(\u001b[0m\u001b[1;33m)\u001b[0m\u001b[1;33m\u001b[0m\u001b[0m\n\u001b[0;32m    159\u001b[0m         \u001b[1;32mtry\u001b[0m\u001b[1;33m:\u001b[0m\u001b[1;33m\u001b[0m\u001b[0m\n\u001b[1;32m--> 160\u001b[1;33m             \u001b[0mtiming\u001b[0m \u001b[1;33m=\u001b[0m \u001b[0mself\u001b[0m\u001b[1;33m.\u001b[0m\u001b[0minner\u001b[0m\u001b[1;33m(\u001b[0m\u001b[0mit\u001b[0m\u001b[1;33m,\u001b[0m \u001b[0mself\u001b[0m\u001b[1;33m.\u001b[0m\u001b[0mtimer\u001b[0m\u001b[1;33m)\u001b[0m\u001b[1;33m\u001b[0m\u001b[0m\n\u001b[0m\u001b[0;32m    161\u001b[0m         \u001b[1;32mfinally\u001b[0m\u001b[1;33m:\u001b[0m\u001b[1;33m\u001b[0m\u001b[0m\n\u001b[0;32m    162\u001b[0m             \u001b[1;32mif\u001b[0m \u001b[0mgcold\u001b[0m\u001b[1;33m:\u001b[0m\u001b[1;33m\u001b[0m\u001b[0m\n",
      "\u001b[1;32m<magic-timeit>\u001b[0m in \u001b[0;36minner\u001b[1;34m(_it, _timer)\u001b[0m\n",
      "\u001b[1;31mTypeError\u001b[0m: __init__() got multiple values for argument 'shape'"
     ]
    }
   ],
   "source": [
    "# %timeit np.arange(20)[0:5]\n",
    "# %timeit np.arange(20)[:5]\n",
    "\n",
    "# %timeit np.power(np.arange(100),2)\n",
    "# %timeit np.square(np.arange(100))    #Bit faster\n",
    "\n",
    "deltas = a\n",
    "N = len(a)-1\n",
    "\n",
    "sines = np.sin(deltas)\n",
    "sines_roll = np.roll(sines,+1)   # Same reason as for l_0()\n",
    "%timeit sparse.dia_matrix([-sines,sines_roll],[-1,+1],shape=(N,N),format=\"csr\")\n",
    "%timeit sparse.csr_matrix(sparse.dia_matrix(([-sines,sines_roll],[-1,+1]),shape=(N,N)))"
   ]
  },
  {
   "cell_type": "markdown",
   "metadata": {},
   "source": [
    "Plot the speed of execution of functions with respect to the length of the input array"
   ]
  },
  {
   "cell_type": "code",
   "execution_count": 21,
   "metadata": {
    "code_folding": [
     12,
     15,
     19,
     23,
     29,
     39,
     50,
     59
    ],
    "scrolled": false
   },
   "outputs": [
    {
     "data": {
      "image/png": "[encoded data removed]",
      "text/plain": [
       "<matplotlib.figure.Figure at 0xb885770>"
      ]
     },
     "metadata": {},
     "output_type": "display_data"
    }
   ],
   "source": [
    "a = 1000000\n",
    "\n",
    "# print(np.zeros_like((a,a)))\n",
    "# print(np.zeros((a,a)))\n",
    "\n",
    "# %timeit np.zeros((a))\n",
    "# %timeit np.zeros_like((a))\n",
    "\n",
    "# Only after 10,000 elements do we see a difference between zeros and zeros_like, same is true for 2d cases\n",
    "\n",
    "# Matrix of diagonal multiplication is faster with for loops\n",
    "\n",
    "def roll_1(vect): \n",
    "    return np.concatenate((np.array([vect[-1]]),vect[0:len(vect)-1]))\n",
    "\n",
    "def roll_0(vect): \n",
    "    return np.concatenate((np.array([0]),vect[0:len(vect)-1]))\n",
    "\n",
    "@jit\n",
    "def roll_minus_1(vect): \n",
    "    # Import a np array and roll the array by -one number\n",
    "    return np.concatenate((vect[1:],np.array([vect[0]])))\n",
    "\n",
    "def diag_multi(x,y,a):\n",
    "    N = len(a)\n",
    "    L = sparse.dia_matrix(([x,roll_1(y)],[-1,+1]),shape=(N,N))\n",
    "    return L.dot(a)\n",
    "\n",
    "@jit(nopython=True,cache=True)\n",
    "def diag_multi_array_numba(x,y,a):\n",
    "    N = len(a)  # number of pendulums\n",
    "    z = np.zeros(N)\n",
    "    z1 = np.zeros(N)\n",
    "    \n",
    "    z[1:N] = -x[0:N-1]*a[0:N-1]\n",
    "    z1[0:N-1] = y[0:N-1]*a[1:N]\n",
    "    return z + z1\n",
    "\n",
    "@jit(nopython=True,cache=True)\n",
    "def diag_multi_numba(x,y,a):\n",
    "    # About 40x faster than creating diagonal matrix and dotting. See Optimising.ipnb\n",
    "    N = len(a)\n",
    "    z = np.zeros(N)\n",
    "    \n",
    "    for n in range(1,N-1):\n",
    "        z[n] = (x[n-1]*a[n-1] + y[n]*a[n+1])\n",
    "    z[0] = y[0]*a[1]\n",
    "    z[N-1] = x[N-2]*a[N-2]\n",
    "    return z\n",
    "\n",
    "def diag_multi_array(x,y,a):\n",
    "    N = len(a)  # number of pendulums\n",
    "    z = np.zeros(N)\n",
    "    z1 = np.zeros(N)\n",
    "    \n",
    "    z[1:N] = x[0:N-1]*a[0:N-1]\n",
    "    z1[0:N-1] = y[0:N-1]*a[1:N]\n",
    "    return z1 - z\n",
    "\n",
    "# Computes the time taken for a function for different input values 'space' and prints to a  list\n",
    "def optimiser(space, fun):\n",
    "    times = []\n",
    "    for a in space:\n",
    "        x = np.random.rand(a)\n",
    "        y = np.random.rand(a)\n",
    "        n = np.random.rand(a)\n",
    "\n",
    "        t1=-time.clock()\n",
    "        fun(x,y,n)\n",
    "        t1 += time.clock()\n",
    "        times.append(t1)\n",
    "    return times\n",
    "\n",
    "space = np.logspace(1,7,50,dtype=np.int32)\n",
    "\n",
    "fig, ax = plt.subplots(1,2,figsize=(15,5))\n",
    "ax[0].loglog(space,optimiser(space,diag_multi_numba))\n",
    "ax[0].set_title('Speed of the function diag_multi_numba with different lengths of arrays')\n",
    "ax[0].set_xlabel('Length of input array')\n",
    "ax[0].set_ylabel('Excution time')\n",
    "\n",
    "ax[1].loglog(space,optimiser(space,diag_multi_array))\n",
    "ax[1].set_title('Speed of the function diag_multi_array with different lengths of arrays')\n",
    "ax[1].set_xlabel('Length of input array')\n",
    "ax[1].set_ylabel('Excution time')\n",
    "plt.show()\n",
    "\n",
    "#%timeit diag_multi(x,y,n)  This is super slow, don't use. Almost half the time is taken forming the diagonal matrix\n",
    "# %timeit diag_multi_array(x,y,n)\n",
    "# %timeit diag_multi_array_numba(x,y,n)\n",
    "# %timeit diag_multi_numba(x,y,n)"
   ]
  },
  {
   "cell_type": "markdown",
   "metadata": {},
   "source": [
    "The above plots were done to compare the implematation of the matrix multiplication of $D \\bullet T$ in Numpy and Numba. We can see that they are both very similar in excution time, apart from the large spike at the beginning of the left hand figure. This is likely due to the inital compliation of the function. However, it should be noted that these results were obtained on a windows distribution of standard python and be boosted by excution on a Linux computer, with Intel's Python, where a fully supported version of all of Numpy's features could be used.\n",
    "\n",
    "64 bit Numpy does not work on windows.\n",
    "https://docs.scipy.org/doc/numpy-1.14.0/release.html#experimental-windows-64-bits-support"
   ]
  },
  {
   "cell_type": "code",
   "execution_count": 17,
   "metadata": {},
   "outputs": [
    {
     "data": {
      "text/plain": [
       "9"
      ]
     },
     "execution_count": 17,
     "metadata": {},
     "output_type": "execute_result"
    }
   ],
   "source": [
    "a = np.arange(10)\n",
    "\n",
    "len(a[1:10])"
   ]
  },
  {
   "cell_type": "markdown",
   "metadata": {},
   "source": [
    "# Numpy isn't always faster"
   ]
  },
  {
   "cell_type": "code",
   "execution_count": 20,
   "metadata": {},
   "outputs": [
    {
     "name": "stdout",
     "output_type": "stream",
     "text": [
      "31.8 µs ± 1.44 µs per loop (mean ± std. dev. of 7 runs, 10000 loops each)\n",
      "18.3 µs ± 2.73 µs per loop (mean ± std. dev. of 7 runs, 100000 loops each)\n"
     ]
    }
   ],
   "source": [
    "@jit(nopython=True,cache=True)\n",
    "def roll_minus_1(vect): \n",
    "    # Import a np array and roll the array by -one number\n",
    "    return np.concatenate((vect[1:],np.array([vect[0]])))\n",
    "\n",
    "x = 10000\n",
    "roll_minus_1(np.random.rand(x))\n",
    "\n",
    "%timeit np.roll(np.random.rand(x),-1)   #slower\n",
    "%timeit roll_minus_1(np.random.rand(x)) #4x faster"
   ]
  },
  {
   "cell_type": "markdown",
   "metadata": {},
   "source": [
    "# Cythonising"
   ]
  },
  {
   "cell_type": "code",
   "execution_count": 26,
   "metadata": {
    "code_folding": [
     0
    ]
   },
   "outputs": [
    {
     "ename": "CompileError",
     "evalue": "command 'C:\\\\Program Files (x86)\\\\Microsoft Visual Studio\\\\2017\\\\BuildTools\\\\VC\\\\Tools\\\\MSVC\\\\14.14.26428\\\\bin\\\\HostX86\\\\x86\\\\cl.exe' failed with exit status 2",
     "output_type": "error",
     "traceback": [
      "\u001b[1;31m---------------------------------------------------------------------------\u001b[0m",
      "\u001b[1;31mDistutilsExecError\u001b[0m                        Traceback (most recent call last)",
      "\u001b[1;32m~\\Anaconda3\\lib\\distutils\\_msvccompiler.py\u001b[0m in \u001b[0;36mcompile\u001b[1;34m(self, sources, output_dir, macros, include_dirs, debug, extra_preargs, extra_postargs, depends)\u001b[0m\n\u001b[0;32m    422\u001b[0m             \u001b[1;32mtry\u001b[0m\u001b[1;33m:\u001b[0m\u001b[1;33m\u001b[0m\u001b[0m\n\u001b[1;32m--> 423\u001b[1;33m                 \u001b[0mself\u001b[0m\u001b[1;33m.\u001b[0m\u001b[0mspawn\u001b[0m\u001b[1;33m(\u001b[0m\u001b[0margs\u001b[0m\u001b[1;33m)\u001b[0m\u001b[1;33m\u001b[0m\u001b[0m\n\u001b[0m\u001b[0;32m    424\u001b[0m             \u001b[1;32mexcept\u001b[0m \u001b[0mDistutilsExecError\u001b[0m \u001b[1;32mas\u001b[0m \u001b[0mmsg\u001b[0m\u001b[1;33m:\u001b[0m\u001b[1;33m\u001b[0m\u001b[0m\n",
      "\u001b[1;32m~\\Anaconda3\\lib\\distutils\\_msvccompiler.py\u001b[0m in \u001b[0;36mspawn\u001b[1;34m(self, cmd)\u001b[0m\n\u001b[0;32m    541\u001b[0m             \u001b[0mos\u001b[0m\u001b[1;33m.\u001b[0m\u001b[0menviron\u001b[0m\u001b[1;33m[\u001b[0m\u001b[1;34m'path'\u001b[0m\u001b[1;33m]\u001b[0m \u001b[1;33m=\u001b[0m \u001b[0mself\u001b[0m\u001b[1;33m.\u001b[0m\u001b[0m_paths\u001b[0m\u001b[1;33m\u001b[0m\u001b[0m\n\u001b[1;32m--> 542\u001b[1;33m             \u001b[1;32mreturn\u001b[0m \u001b[0msuper\u001b[0m\u001b[1;33m(\u001b[0m\u001b[1;33m)\u001b[0m\u001b[1;33m.\u001b[0m\u001b[0mspawn\u001b[0m\u001b[1;33m(\u001b[0m\u001b[0mcmd\u001b[0m\u001b[1;33m)\u001b[0m\u001b[1;33m\u001b[0m\u001b[0m\n\u001b[0m\u001b[0;32m    543\u001b[0m         \u001b[1;32mfinally\u001b[0m\u001b[1;33m:\u001b[0m\u001b[1;33m\u001b[0m\u001b[0m\n",
      "\u001b[1;32m~\\Anaconda3\\lib\\distutils\\ccompiler.py\u001b[0m in \u001b[0;36mspawn\u001b[1;34m(self, cmd)\u001b[0m\n\u001b[0;32m    908\u001b[0m     \u001b[1;32mdef\u001b[0m \u001b[0mspawn\u001b[0m\u001b[1;33m(\u001b[0m\u001b[0mself\u001b[0m\u001b[1;33m,\u001b[0m \u001b[0mcmd\u001b[0m\u001b[1;33m)\u001b[0m\u001b[1;33m:\u001b[0m\u001b[1;33m\u001b[0m\u001b[0m\n\u001b[1;32m--> 909\u001b[1;33m         \u001b[0mspawn\u001b[0m\u001b[1;33m(\u001b[0m\u001b[0mcmd\u001b[0m\u001b[1;33m,\u001b[0m \u001b[0mdry_run\u001b[0m\u001b[1;33m=\u001b[0m\u001b[0mself\u001b[0m\u001b[1;33m.\u001b[0m\u001b[0mdry_run\u001b[0m\u001b[1;33m)\u001b[0m\u001b[1;33m\u001b[0m\u001b[0m\n\u001b[0m\u001b[0;32m    910\u001b[0m \u001b[1;33m\u001b[0m\u001b[0m\n",
      "\u001b[1;32m~\\Anaconda3\\lib\\distutils\\spawn.py\u001b[0m in \u001b[0;36mspawn\u001b[1;34m(cmd, search_path, verbose, dry_run)\u001b[0m\n\u001b[0;32m     37\u001b[0m     \u001b[1;32melif\u001b[0m \u001b[0mos\u001b[0m\u001b[1;33m.\u001b[0m\u001b[0mname\u001b[0m \u001b[1;33m==\u001b[0m \u001b[1;34m'nt'\u001b[0m\u001b[1;33m:\u001b[0m\u001b[1;33m\u001b[0m\u001b[0m\n\u001b[1;32m---> 38\u001b[1;33m         \u001b[0m_spawn_nt\u001b[0m\u001b[1;33m(\u001b[0m\u001b[0mcmd\u001b[0m\u001b[1;33m,\u001b[0m \u001b[0msearch_path\u001b[0m\u001b[1;33m,\u001b[0m \u001b[0mdry_run\u001b[0m\u001b[1;33m=\u001b[0m\u001b[0mdry_run\u001b[0m\u001b[1;33m)\u001b[0m\u001b[1;33m\u001b[0m\u001b[0m\n\u001b[0m\u001b[0;32m     39\u001b[0m     \u001b[1;32melse\u001b[0m\u001b[1;33m:\u001b[0m\u001b[1;33m\u001b[0m\u001b[0m\n",
      "\u001b[1;32m~\\Anaconda3\\lib\\distutils\\spawn.py\u001b[0m in \u001b[0;36m_spawn_nt\u001b[1;34m(cmd, search_path, verbose, dry_run)\u001b[0m\n\u001b[0;32m     80\u001b[0m             raise DistutilsExecError(\n\u001b[1;32m---> 81\u001b[1;33m                   \"command %r failed with exit status %d\" % (cmd, rc))\n\u001b[0m\u001b[0;32m     82\u001b[0m \u001b[1;33m\u001b[0m\u001b[0m\n",
      "\u001b[1;31mDistutilsExecError\u001b[0m: command 'C:\\\\Program Files (x86)\\\\Microsoft Visual Studio\\\\2017\\\\BuildTools\\\\VC\\\\Tools\\\\MSVC\\\\14.14.26428\\\\bin\\\\HostX86\\\\x86\\\\cl.exe' failed with exit status 2",
      "\nDuring handling of the above exception, another exception occurred:\n",
      "\u001b[1;31mCompileError\u001b[0m                              Traceback (most recent call last)",
      "\u001b[1;32m<ipython-input-26-4a57ba001103>\u001b[0m in \u001b[0;36m<module>\u001b[1;34m()\u001b[0m\n\u001b[1;32m----> 1\u001b[1;33m \u001b[0mget_ipython\u001b[0m\u001b[1;33m(\u001b[0m\u001b[1;33m)\u001b[0m\u001b[1;33m.\u001b[0m\u001b[0mrun_cell_magic\u001b[0m\u001b[1;33m(\u001b[0m\u001b[1;34m'cython'\u001b[0m\u001b[1;33m,\u001b[0m \u001b[1;34m''\u001b[0m\u001b[1;33m,\u001b[0m \u001b[1;34m'# The cyhonised code of loop. The %%cython has to be at the top of the cell.\\n\\nimport numpy as np\\ncimport numpy as np\\n\\nDTYPE = np.int64\\nctypedef np.int_t DTYPE_t\\n\\ncpdef loop_cython(int a):\\n    cdef int n = 0\\n    cdef int n_max = a\\n    cdef int iteration = 0\\n    cdef int total = 0\\n    cdef np.ndarray rand = np.empty(a, dtype=DTYPE)\\n    while n<n_max:\\n        total += n\\n        rand*rand\\n        n += 1\\n        iteration += 1\\n    return'\u001b[0m\u001b[1;33m)\u001b[0m\u001b[1;33m\u001b[0m\u001b[0m\n\u001b[0m",
      "\u001b[1;32m~\\AppData\\Roaming\\Python\\Python36\\site-packages\\IPython\\core\\interactiveshell.py\u001b[0m in \u001b[0;36mrun_cell_magic\u001b[1;34m(self, magic_name, line, cell)\u001b[0m\n\u001b[0;32m   2129\u001b[0m             \u001b[0mmagic_arg_s\u001b[0m \u001b[1;33m=\u001b[0m \u001b[0mself\u001b[0m\u001b[1;33m.\u001b[0m\u001b[0mvar_expand\u001b[0m\u001b[1;33m(\u001b[0m\u001b[0mline\u001b[0m\u001b[1;33m,\u001b[0m \u001b[0mstack_depth\u001b[0m\u001b[1;33m)\u001b[0m\u001b[1;33m\u001b[0m\u001b[0m\n\u001b[0;32m   2130\u001b[0m             \u001b[1;32mwith\u001b[0m \u001b[0mself\u001b[0m\u001b[1;33m.\u001b[0m\u001b[0mbuiltin_trap\u001b[0m\u001b[1;33m:\u001b[0m\u001b[1;33m\u001b[0m\u001b[0m\n\u001b[1;32m-> 2131\u001b[1;33m                 \u001b[0mresult\u001b[0m \u001b[1;33m=\u001b[0m \u001b[0mfn\u001b[0m\u001b[1;33m(\u001b[0m\u001b[0mmagic_arg_s\u001b[0m\u001b[1;33m,\u001b[0m \u001b[0mcell\u001b[0m\u001b[1;33m)\u001b[0m\u001b[1;33m\u001b[0m\u001b[0m\n\u001b[0m\u001b[0;32m   2132\u001b[0m             \u001b[1;32mreturn\u001b[0m \u001b[0mresult\u001b[0m\u001b[1;33m\u001b[0m\u001b[0m\n\u001b[0;32m   2133\u001b[0m \u001b[1;33m\u001b[0m\u001b[0m\n",
      "\u001b[1;32m<decorator-gen-128>\u001b[0m in \u001b[0;36mcython\u001b[1;34m(self, line, cell)\u001b[0m\n",
      "\u001b[1;32m~\\AppData\\Roaming\\Python\\Python36\\site-packages\\IPython\\core\\magic.py\u001b[0m in \u001b[0;36m<lambda>\u001b[1;34m(f, *a, **k)\u001b[0m\n\u001b[0;32m    185\u001b[0m     \u001b[1;31m# but it's overkill for just that one bit of state.\u001b[0m\u001b[1;33m\u001b[0m\u001b[1;33m\u001b[0m\u001b[0m\n\u001b[0;32m    186\u001b[0m     \u001b[1;32mdef\u001b[0m \u001b[0mmagic_deco\u001b[0m\u001b[1;33m(\u001b[0m\u001b[0marg\u001b[0m\u001b[1;33m)\u001b[0m\u001b[1;33m:\u001b[0m\u001b[1;33m\u001b[0m\u001b[0m\n\u001b[1;32m--> 187\u001b[1;33m         \u001b[0mcall\u001b[0m \u001b[1;33m=\u001b[0m \u001b[1;32mlambda\u001b[0m \u001b[0mf\u001b[0m\u001b[1;33m,\u001b[0m \u001b[1;33m*\u001b[0m\u001b[0ma\u001b[0m\u001b[1;33m,\u001b[0m \u001b[1;33m**\u001b[0m\u001b[0mk\u001b[0m\u001b[1;33m:\u001b[0m \u001b[0mf\u001b[0m\u001b[1;33m(\u001b[0m\u001b[1;33m*\u001b[0m\u001b[0ma\u001b[0m\u001b[1;33m,\u001b[0m \u001b[1;33m**\u001b[0m\u001b[0mk\u001b[0m\u001b[1;33m)\u001b[0m\u001b[1;33m\u001b[0m\u001b[0m\n\u001b[0m\u001b[0;32m    188\u001b[0m \u001b[1;33m\u001b[0m\u001b[0m\n\u001b[0;32m    189\u001b[0m         \u001b[1;32mif\u001b[0m \u001b[0mcallable\u001b[0m\u001b[1;33m(\u001b[0m\u001b[0marg\u001b[0m\u001b[1;33m)\u001b[0m\u001b[1;33m:\u001b[0m\u001b[1;33m\u001b[0m\u001b[0m\n",
      "\u001b[1;32m~\\Anaconda3\\lib\\site-packages\\Cython\\Build\\IpythonMagic.py\u001b[0m in \u001b[0;36mcython\u001b[1;34m(self, line, cell)\u001b[0m\n\u001b[0;32m    327\u001b[0m \u001b[1;33m\u001b[0m\u001b[0m\n\u001b[0;32m    328\u001b[0m         self._build_extension(extension, lib_dir, pgo_step_name='use' if args.pgo else None,\n\u001b[1;32m--> 329\u001b[1;33m                               quiet=args.quiet)\n\u001b[0m\u001b[0;32m    330\u001b[0m \u001b[1;33m\u001b[0m\u001b[0m\n\u001b[0;32m    331\u001b[0m         \u001b[0mmodule\u001b[0m \u001b[1;33m=\u001b[0m \u001b[0mimp\u001b[0m\u001b[1;33m.\u001b[0m\u001b[0mload_dynamic\u001b[0m\u001b[1;33m(\u001b[0m\u001b[0mmodule_name\u001b[0m\u001b[1;33m,\u001b[0m \u001b[0mmodule_path\u001b[0m\u001b[1;33m)\u001b[0m\u001b[1;33m\u001b[0m\u001b[0m\n",
      "\u001b[1;32m~\\Anaconda3\\lib\\site-packages\\Cython\\Build\\IpythonMagic.py\u001b[0m in \u001b[0;36m_build_extension\u001b[1;34m(self, extension, lib_dir, temp_dir, pgo_step_name, quiet)\u001b[0m\n\u001b[0;32m    437\u001b[0m             \u001b[1;32mif\u001b[0m \u001b[1;32mnot\u001b[0m \u001b[0mquiet\u001b[0m\u001b[1;33m:\u001b[0m\u001b[1;33m\u001b[0m\u001b[0m\n\u001b[0;32m    438\u001b[0m                 \u001b[0mold_threshold\u001b[0m \u001b[1;33m=\u001b[0m \u001b[0mdistutils\u001b[0m\u001b[1;33m.\u001b[0m\u001b[0mlog\u001b[0m\u001b[1;33m.\u001b[0m\u001b[0mset_threshold\u001b[0m\u001b[1;33m(\u001b[0m\u001b[0mdistutils\u001b[0m\u001b[1;33m.\u001b[0m\u001b[0mlog\u001b[0m\u001b[1;33m.\u001b[0m\u001b[0mDEBUG\u001b[0m\u001b[1;33m)\u001b[0m\u001b[1;33m\u001b[0m\u001b[0m\n\u001b[1;32m--> 439\u001b[1;33m             \u001b[0mbuild_extension\u001b[0m\u001b[1;33m.\u001b[0m\u001b[0mrun\u001b[0m\u001b[1;33m(\u001b[0m\u001b[1;33m)\u001b[0m\u001b[1;33m\u001b[0m\u001b[0m\n\u001b[0m\u001b[0;32m    440\u001b[0m         \u001b[1;32mfinally\u001b[0m\u001b[1;33m:\u001b[0m\u001b[1;33m\u001b[0m\u001b[0m\n\u001b[0;32m    441\u001b[0m             \u001b[1;32mif\u001b[0m \u001b[1;32mnot\u001b[0m \u001b[0mquiet\u001b[0m \u001b[1;32mand\u001b[0m \u001b[0mold_threshold\u001b[0m \u001b[1;32mis\u001b[0m \u001b[1;32mnot\u001b[0m \u001b[1;32mNone\u001b[0m\u001b[1;33m:\u001b[0m\u001b[1;33m\u001b[0m\u001b[0m\n",
      "\u001b[1;32m~\\Anaconda3\\lib\\distutils\\command\\build_ext.py\u001b[0m in \u001b[0;36mrun\u001b[1;34m(self)\u001b[0m\n\u001b[0;32m    337\u001b[0m \u001b[1;33m\u001b[0m\u001b[0m\n\u001b[0;32m    338\u001b[0m         \u001b[1;31m# Now actually compile and link everything.\u001b[0m\u001b[1;33m\u001b[0m\u001b[1;33m\u001b[0m\u001b[0m\n\u001b[1;32m--> 339\u001b[1;33m         \u001b[0mself\u001b[0m\u001b[1;33m.\u001b[0m\u001b[0mbuild_extensions\u001b[0m\u001b[1;33m(\u001b[0m\u001b[1;33m)\u001b[0m\u001b[1;33m\u001b[0m\u001b[0m\n\u001b[0m\u001b[0;32m    340\u001b[0m \u001b[1;33m\u001b[0m\u001b[0m\n\u001b[0;32m    341\u001b[0m     \u001b[1;32mdef\u001b[0m \u001b[0mcheck_extensions_list\u001b[0m\u001b[1;33m(\u001b[0m\u001b[0mself\u001b[0m\u001b[1;33m,\u001b[0m \u001b[0mextensions\u001b[0m\u001b[1;33m)\u001b[0m\u001b[1;33m:\u001b[0m\u001b[1;33m\u001b[0m\u001b[0m\n",
      "\u001b[1;32m~\\Anaconda3\\lib\\distutils\\command\\build_ext.py\u001b[0m in \u001b[0;36mbuild_extensions\u001b[1;34m(self)\u001b[0m\n\u001b[0;32m    446\u001b[0m             \u001b[0mself\u001b[0m\u001b[1;33m.\u001b[0m\u001b[0m_build_extensions_parallel\u001b[0m\u001b[1;33m(\u001b[0m\u001b[1;33m)\u001b[0m\u001b[1;33m\u001b[0m\u001b[0m\n\u001b[0;32m    447\u001b[0m         \u001b[1;32melse\u001b[0m\u001b[1;33m:\u001b[0m\u001b[1;33m\u001b[0m\u001b[0m\n\u001b[1;32m--> 448\u001b[1;33m             \u001b[0mself\u001b[0m\u001b[1;33m.\u001b[0m\u001b[0m_build_extensions_serial\u001b[0m\u001b[1;33m(\u001b[0m\u001b[1;33m)\u001b[0m\u001b[1;33m\u001b[0m\u001b[0m\n\u001b[0m\u001b[0;32m    449\u001b[0m \u001b[1;33m\u001b[0m\u001b[0m\n\u001b[0;32m    450\u001b[0m     \u001b[1;32mdef\u001b[0m \u001b[0m_build_extensions_parallel\u001b[0m\u001b[1;33m(\u001b[0m\u001b[0mself\u001b[0m\u001b[1;33m)\u001b[0m\u001b[1;33m:\u001b[0m\u001b[1;33m\u001b[0m\u001b[0m\n",
      "\u001b[1;32m~\\Anaconda3\\lib\\distutils\\command\\build_ext.py\u001b[0m in \u001b[0;36m_build_extensions_serial\u001b[1;34m(self)\u001b[0m\n\u001b[0;32m    471\u001b[0m         \u001b[1;32mfor\u001b[0m \u001b[0mext\u001b[0m \u001b[1;32min\u001b[0m \u001b[0mself\u001b[0m\u001b[1;33m.\u001b[0m\u001b[0mextensions\u001b[0m\u001b[1;33m:\u001b[0m\u001b[1;33m\u001b[0m\u001b[0m\n\u001b[0;32m    472\u001b[0m             \u001b[1;32mwith\u001b[0m \u001b[0mself\u001b[0m\u001b[1;33m.\u001b[0m\u001b[0m_filter_build_errors\u001b[0m\u001b[1;33m(\u001b[0m\u001b[0mext\u001b[0m\u001b[1;33m)\u001b[0m\u001b[1;33m:\u001b[0m\u001b[1;33m\u001b[0m\u001b[0m\n\u001b[1;32m--> 473\u001b[1;33m                 \u001b[0mself\u001b[0m\u001b[1;33m.\u001b[0m\u001b[0mbuild_extension\u001b[0m\u001b[1;33m(\u001b[0m\u001b[0mext\u001b[0m\u001b[1;33m)\u001b[0m\u001b[1;33m\u001b[0m\u001b[0m\n\u001b[0m\u001b[0;32m    474\u001b[0m \u001b[1;33m\u001b[0m\u001b[0m\n\u001b[0;32m    475\u001b[0m     \u001b[1;33m@\u001b[0m\u001b[0mcontextlib\u001b[0m\u001b[1;33m.\u001b[0m\u001b[0mcontextmanager\u001b[0m\u001b[1;33m\u001b[0m\u001b[0m\n",
      "\u001b[1;32m~\\Anaconda3\\lib\\distutils\\command\\build_ext.py\u001b[0m in \u001b[0;36mbuild_extension\u001b[1;34m(self, ext)\u001b[0m\n\u001b[0;32m    531\u001b[0m                                          \u001b[0mdebug\u001b[0m\u001b[1;33m=\u001b[0m\u001b[0mself\u001b[0m\u001b[1;33m.\u001b[0m\u001b[0mdebug\u001b[0m\u001b[1;33m,\u001b[0m\u001b[1;33m\u001b[0m\u001b[0m\n\u001b[0;32m    532\u001b[0m                                          \u001b[0mextra_postargs\u001b[0m\u001b[1;33m=\u001b[0m\u001b[0mextra_args\u001b[0m\u001b[1;33m,\u001b[0m\u001b[1;33m\u001b[0m\u001b[0m\n\u001b[1;32m--> 533\u001b[1;33m                                          depends=ext.depends)\n\u001b[0m\u001b[0;32m    534\u001b[0m \u001b[1;33m\u001b[0m\u001b[0m\n\u001b[0;32m    535\u001b[0m         \u001b[1;31m# XXX outdated variable, kept here in case third-part code\u001b[0m\u001b[1;33m\u001b[0m\u001b[1;33m\u001b[0m\u001b[0m\n",
      "\u001b[1;32m~\\Anaconda3\\lib\\distutils\\_msvccompiler.py\u001b[0m in \u001b[0;36mcompile\u001b[1;34m(self, sources, output_dir, macros, include_dirs, debug, extra_preargs, extra_postargs, depends)\u001b[0m\n\u001b[0;32m    423\u001b[0m                 \u001b[0mself\u001b[0m\u001b[1;33m.\u001b[0m\u001b[0mspawn\u001b[0m\u001b[1;33m(\u001b[0m\u001b[0margs\u001b[0m\u001b[1;33m)\u001b[0m\u001b[1;33m\u001b[0m\u001b[0m\n\u001b[0;32m    424\u001b[0m             \u001b[1;32mexcept\u001b[0m \u001b[0mDistutilsExecError\u001b[0m \u001b[1;32mas\u001b[0m \u001b[0mmsg\u001b[0m\u001b[1;33m:\u001b[0m\u001b[1;33m\u001b[0m\u001b[0m\n\u001b[1;32m--> 425\u001b[1;33m                 \u001b[1;32mraise\u001b[0m \u001b[0mCompileError\u001b[0m\u001b[1;33m(\u001b[0m\u001b[0mmsg\u001b[0m\u001b[1;33m)\u001b[0m\u001b[1;33m\u001b[0m\u001b[0m\n\u001b[0m\u001b[0;32m    426\u001b[0m \u001b[1;33m\u001b[0m\u001b[0m\n\u001b[0;32m    427\u001b[0m         \u001b[1;32mreturn\u001b[0m \u001b[0mobjects\u001b[0m\u001b[1;33m\u001b[0m\u001b[0m\n",
      "\u001b[1;31mCompileError\u001b[0m: command 'C:\\\\Program Files (x86)\\\\Microsoft Visual Studio\\\\2017\\\\BuildTools\\\\VC\\\\Tools\\\\MSVC\\\\14.14.26428\\\\bin\\\\HostX86\\\\x86\\\\cl.exe' failed with exit status 2"
     ]
    }
   ],
   "source": [
    "%%cython \n",
    "# The cyhonised code of loop. The %%cython has to be at the top of the cell.\n",
    "\n",
    "import numpy as np\n",
    "cimport numpy as np\n",
    "\n",
    "DTYPE = np.int64\n",
    "ctypedef np.int_t DTYPE_t\n",
    "\n",
    "cpdef loop_cython(int a):\n",
    "    cdef int n = 0\n",
    "    cdef int n_max = a\n",
    "    cdef int iteration = 0\n",
    "    cdef int total = 0\n",
    "    cdef np.ndarray rand = np.empty(a, dtype=DTYPE)\n",
    "    while n<n_max:\n",
    "        total += n\n",
    "        rand*rand\n",
    "        n += 1\n",
    "        iteration += 1\n",
    "    return"
   ]
  },
  {
   "cell_type": "code",
   "execution_count": null,
   "metadata": {
    "code_folding": [
     0
    ]
   },
   "outputs": [],
   "source": [
    "# Pure python function\n",
    "def loop(a):\n",
    "    n = 0\n",
    "    n_max = a\n",
    "    iteration = 0\n",
    "    total = 0\n",
    "    while n<n_max:\n",
    "        total += n\n",
    "        np.random.rand(a)*np.random.rand(a)\n",
    "        n += 1\n",
    "        iteration += 1\n",
    "    return"
   ]
  },
  {
   "cell_type": "code",
   "execution_count": null,
   "metadata": {},
   "outputs": [],
   "source": [
    "%timeit loop_cython(1000)\n",
    "%timeit loop(1000)"
   ]
  },
  {
   "cell_type": "markdown",
   "metadata": {},
   "source": [
    "Wow, a 10x speed up. Here we can see that cythonising the loop will possible lead to great speedups.\n",
    "\n",
    "So, let's try... Here is the original version of the loop:"
   ]
  },
  {
   "cell_type": "code",
   "execution_count": 28,
   "metadata": {
    "code_folding": [
     0
    ]
   },
   "outputs": [],
   "source": [
    "def main_loop(zeta, t_in, t_step,t_max, n_step, N, atol, pre_steps):\n",
    "    thetas  = np.zeros((n_step,N))\n",
    "    omegas  = np.zeros((n_step,N))\n",
    "    theta   = np.zeros(N)\n",
    "    omega   = np.zeros(N) \n",
    "    xvals   = np.zeros((n_step,N))\n",
    "    yvals   = np.zeros((n_step,N))\n",
    "    KE_vals = np.zeros((n_step,N))\n",
    "    KE_tot  = np.zeros(n_step)\n",
    "    speeds  = np.zeros((n_step,N))\n",
    "    global status  \n",
    "    status  = []\n",
    "    \n",
    "    t = int(t_in)\n",
    "    iteration = int(0)\n",
    "    # Initalise the Runge-Kutta function\n",
    "    integrate = RK45(RHS, t_in, zeta, t_max, max_step=t_step, atol = atol)\n",
    "    \n",
    "    # Integrate before\n",
    "    for n in range(pre_steps):\n",
    "        integrate.step()\n",
    "    \n",
    "    t1 = time.time()\n",
    "    while iteration < n_step:\n",
    "        zeta = integrate.y                    # Call current state\n",
    "        theta = zeta[0:N]                     # Slice to get the thetas, consider storing as a list of numpy arrays, they seem to faster (see Optiming.ipnb)\n",
    "        thetas[iteration,] = theta\n",
    "\n",
    "        omega = zeta[N:]\n",
    "        omegas[iteration,]  = omega\n",
    "\n",
    "        KE_vals[iteration,], KE_tot[iteration], speeds[iteration,], xvals[iteration,], yvals[iteration,] = important_vals(theta,omega,N)\n",
    "        status.append(integrate.step())                                 # Integrate\n",
    "        iteration = iteration + 1\n",
    "    t2 = time.time()\n",
    "    return thetas, omegas, xvals, yvals, KE_vals,KE_tot,speeds"
   ]
  },
  {
   "cell_type": "markdown",
   "metadata": {},
   "source": [
    "Here is the Cythonised version"
   ]
  },
  {
   "cell_type": "code",
   "execution_count": null,
   "metadata": {
    "code_folding": [
     0,
     13
    ]
   },
   "outputs": [],
   "source": [
    "%%cython \n",
    "# The cyhonised code of loop. The %%cython has to be at the top of the cell.\n",
    "\n",
    "from scipy.integrate import RK45\n",
    "import numpy as np\n",
    "import time\n",
    "cimport numpy as np\n",
    "\n",
    "cimport cython\n",
    "\n",
    "DTYPE = np.int64\n",
    "ctypedef np.int_t DTYPE_t\n",
    "\n",
    "def main_loop_cython(zeta, t_in, t_step,t_max, n_step, N, atol, pre_steps):\n",
    "    thetas  = np.zeros((n_step,N))\n",
    "    omegas  = np.zeros((n_step,N))\n",
    "    theta   = np.zeros(N)\n",
    "    omega   = np.zeros(N) \n",
    "    xvals   = np.zeros((n_step,N))\n",
    "    yvals   = np.zeros((n_step,N))\n",
    "    KE_vals = np.zeros((n_step,N))\n",
    "    KE_tot  = np.zeros(n_step)\n",
    "    speeds  = np.zeros((n_step,N))\n",
    "    global status  \n",
    "    status  = []\n",
    "    \n",
    "    t = int(t_in)\n",
    "    iteration = int(0)\n",
    "    # Initalise the Runge-Kutta function\n",
    "    integrate = RK45(RHS, t_in, zeta, t_max, max_step=t_step, atol = atol)\n",
    "    \n",
    "    # Integrate before steping\n",
    "    for n in range(pre_steps):\n",
    "        integrate.step()\n",
    "    \n",
    "    t1 = time.time()\n",
    "    while iteration < n_step:\n",
    "        zeta = integrate.y                    # Call current state\n",
    "        theta = zeta[0:N]                     # Slice to get the thetas, consider storing as a list of numpy arrays, they seem to faster (see Optiming.ipnb)\n",
    "        thetas[iteration,] = theta\n",
    "\n",
    "        omega = zeta[N:]\n",
    "        omegas[iteration,]  = omega\n",
    "\n",
    "        KE_vals[iteration,], KE_tot[iteration], speeds[iteration,], xvals[iteration,], yvals[iteration,] = important_vals(theta,omega,N)\n",
    "        status.append(integrate.step())                                 # Integrate\n",
    "        iteration = iteration + 1\n",
    "    t2 = time.time()\n",
    "    return thetas, omegas, xvals, yvals, KE_vals,KE_tot,speeds"
   ]
  },
  {
   "cell_type": "markdown",
   "metadata": {},
   "source": [
    "O crap, I ran out of time and wasn't able to get it to work. But, if I do ever get it working, then I'll be sure to send it to you."
   ]
  },
  {
   "cell_type": "code",
   "execution_count": null,
   "metadata": {},
   "outputs": [],
   "source": [
    "N=1000\n",
    "%timeit main_loop(np.random.rand(2*N), 0, np.inf,np.inf, 600, N, 1e-16, 0)\n",
    "%timeit main_loop_cython(np.random.rand(2*N), 0, np.inf,np.inf, 600, N, 1e-16, 0)"
   ]
  }
 ],
 "metadata": {
  "kernelspec": {
   "display_name": "Python 3",
   "language": "python",
   "name": "python3"
  },
  "language_info": {
   "codemirror_mode": {
    "name": "ipython",
    "version": 3
   },
   "file_extension": ".py",
   "mimetype": "text/x-python",
   "name": "python",
   "nbconvert_exporter": "python",
   "pygments_lexer": "ipython3",
   "version": "3.6.5"
  }
 },
 "nbformat": 4,
 "nbformat_minor": 2
}
